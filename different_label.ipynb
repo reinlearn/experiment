{
 "cells": [
  {
   "cell_type": "markdown",
   "metadata": {},
   "source": [
    "同じデータに異なるラベルがついている場合の学習結果"
   ]
  },
  {
   "cell_type": "code",
   "execution_count": 1,
   "metadata": {},
   "outputs": [],
   "source": [
    "import torch\n",
    "import torch.nn as nn\n",
    "import torch.nn.functional as F\n",
    "import torch.optim as optim"
   ]
  },
  {
   "cell_type": "code",
   "execution_count": 2,
   "metadata": {},
   "outputs": [],
   "source": [
    "class Net(nn.Module):\n",
    "    def __init__(self, n_class):\n",
    "        super(Net, self).__init__()\n",
    "        self.fc1 = nn.Linear(100, 100)\n",
    "        self.fc2 = nn.Linear(100, n_class)\n",
    "\n",
    "    def forward(self, x):\n",
    "        x = F.relu(self.fc1(x))\n",
    "        x = self.fc2(x)\n",
    "        return x"
   ]
  },
  {
   "cell_type": "markdown",
   "metadata": {},
   "source": [
    "2クラス，ラベル比率が異なる場合"
   ]
  },
  {
   "cell_type": "code",
   "execution_count": 3,
   "metadata": {},
   "outputs": [
    {
     "name": "stdout",
     "output_type": "stream",
     "text": [
      "iter 0, loss 0.6924054026603699\n",
      "iter 10, loss 0.6819267272949219\n",
      "iter 20, loss 0.6774259209632874\n",
      "iter 30, loss 0.6753266453742981\n",
      "iter 40, loss 0.6742581129074097\n",
      "predict_prob: tensor([0.6650, 0.6650, 0.6650, 0.6650, 0.6650])\n",
      "predict_class tensor([0, 0, 0, 0, 0])\n",
      "iter 0, loss 0.7082134485244751\n",
      "iter 10, loss 0.690299391746521\n",
      "iter 20, loss 0.6816244125366211\n",
      "iter 30, loss 0.6775537133216858\n",
      "iter 40, loss 0.6754857897758484\n",
      "predict_prob: tensor([0.6492, 0.6492, 0.6492, 0.6492, 0.6492])\n",
      "predict_class tensor([0, 0, 0, 0, 0])\n",
      "iter 0, loss 0.7011058926582336\n",
      "iter 10, loss 0.68865567445755\n",
      "iter 20, loss 0.6818124651908875\n",
      "iter 30, loss 0.6780719757080078\n",
      "iter 40, loss 0.6759737133979797\n",
      "predict_prob: tensor([0.6424, 0.6424, 0.6424, 0.6424, 0.6424])\n",
      "predict_class tensor([0, 0, 0, 0, 0])\n",
      "iter 0, loss 0.6743637919425964\n",
      "iter 10, loss 0.6736541390419006\n",
      "iter 20, loss 0.6733253002166748\n",
      "iter 30, loss 0.6731678247451782\n",
      "iter 40, loss 0.6730904579162598\n",
      "predict_prob: tensor([0.6936, 0.6936, 0.6936, 0.6936, 0.6936])\n",
      "predict_class tensor([0, 0, 0, 0, 0])\n",
      "iter 0, loss 0.696093738079071\n",
      "iter 10, loss 0.6835852861404419\n",
      "iter 20, loss 0.6780401468276978\n",
      "iter 30, loss 0.6755074262619019\n",
      "iter 40, loss 0.6742953062057495\n",
      "predict_prob: tensor([0.6652, 0.6652, 0.6652, 0.6652, 0.6652])\n",
      "predict_class tensor([0, 0, 0, 0, 0])\n"
     ]
    }
   ],
   "source": [
    "for experiment in range(5):\n",
    "    model = Net(n_class=2)\n",
    "    optimizer = optim.SGD(model.parameters(), lr=0.01)\n",
    "\n",
    "    data = torch.randn(1, 100).repeat(5, 1)\n",
    "    label = torch.LongTensor([0, 0, 0, 1, 1])\n",
    "    criterion = nn.CrossEntropyLoss()\n",
    "\n",
    "    for iteration in range(50):\n",
    "        predict = F.softmax(model(data), dim=1)\n",
    "        loss = criterion(predict, label)\n",
    "        optimizer.zero_grad()\n",
    "        loss.backward()\n",
    "        optimizer.step()\n",
    "        if iteration % 10 == 0:\n",
    "            print('iter {}, loss {}'.format(iteration, loss))\n",
    "\n",
    "    with torch.no_grad():\n",
    "        predict_prob, predict_class = F.softmax(model(data), dim=1).max(dim=1)\n",
    "        print('predict_prob:', predict_prob)\n",
    "        print('predict_class', predict_class)\n"
   ]
  },
  {
   "cell_type": "markdown",
   "metadata": {},
   "source": [
    "2クラス，ラベル比率が等しい場合"
   ]
  },
  {
   "cell_type": "code",
   "execution_count": 4,
   "metadata": {},
   "outputs": [
    {
     "name": "stdout",
     "output_type": "stream",
     "text": [
      "iter 0, loss 0.6942340731620789\n",
      "iter 10, loss 0.6935182213783264\n",
      "iter 20, loss 0.6932728886604309\n",
      "iter 30, loss 0.6931896805763245\n",
      "iter 40, loss 0.69316166639328\n",
      "predict_prob: tensor([0.5031, 0.5031, 0.5031, 0.5031, 0.5031, 0.5031])\n",
      "predict_class tensor([1, 1, 1, 1, 1, 1])\n",
      "iter 0, loss 0.6945130825042725\n",
      "iter 10, loss 0.6936230659484863\n",
      "iter 20, loss 0.6933113932609558\n",
      "iter 30, loss 0.6932036280632019\n",
      "iter 40, loss 0.6931665539741516\n",
      "predict_prob: tensor([0.5036, 0.5036, 0.5036, 0.5036, 0.5036, 0.5036])\n",
      "predict_class tensor([1, 1, 1, 1, 1, 1])\n",
      "iter 0, loss 0.6948263049125671\n",
      "iter 10, loss 0.6937670707702637\n",
      "iter 20, loss 0.6933735013008118\n",
      "iter 30, loss 0.6932294964790344\n",
      "iter 40, loss 0.6931770443916321\n",
      "predict_prob: tensor([0.5047, 0.5047, 0.5047, 0.5047, 0.5047, 0.5047])\n",
      "predict_class tensor([0, 0, 0, 0, 0, 0])\n",
      "iter 0, loss 0.6956174373626709\n",
      "iter 10, loss 0.6940482258796692\n",
      "iter 20, loss 0.6934708952903748\n",
      "iter 30, loss 0.6932668685913086\n",
      "iter 40, loss 0.6931917667388916\n",
      "predict_prob: tensor([0.5058, 0.5058, 0.5058, 0.5058, 0.5058, 0.5058])\n",
      "predict_class tensor([1, 1, 1, 1, 1, 1])\n",
      "iter 0, loss 0.6973193287849426\n",
      "iter 10, loss 0.6945950984954834\n",
      "iter 20, loss 0.6936342716217041\n",
      "iter 30, loss 0.6933090686798096\n",
      "iter 40, loss 0.6932007670402527\n",
      "predict_prob: tensor([0.5060, 0.5060, 0.5060, 0.5060, 0.5060, 0.5060])\n",
      "predict_class tensor([1, 1, 1, 1, 1, 1])\n"
     ]
    }
   ],
   "source": [
    "for experiment in range(5):\n",
    "    model = Net(n_class=2)\n",
    "    optimizer = optim.SGD(model.parameters(), lr=0.01)\n",
    "\n",
    "    data = torch.randn(1, 100).repeat(6, 1)\n",
    "    label = torch.LongTensor([0, 0, 0, 1, 1, 1])\n",
    "    criterion = nn.CrossEntropyLoss()\n",
    "\n",
    "    for iteration in range(50):\n",
    "        predict = F.softmax(model(data), dim=1)\n",
    "        loss = criterion(predict, label)\n",
    "        optimizer.zero_grad()\n",
    "        loss.backward()\n",
    "        optimizer.step()\n",
    "        if iteration % 10 == 0:\n",
    "            print('iter {}, loss {}'.format(iteration, loss))\n",
    "\n",
    "    with torch.no_grad():\n",
    "        predict_prob, predict_class = F.softmax(model(data), dim=1).max(dim=1)\n",
    "        print('predict_prob:', predict_prob)\n",
    "        print('predict_class', predict_class)\n"
   ]
  },
  {
   "cell_type": "code",
   "execution_count": null,
   "metadata": {},
   "outputs": [],
   "source": []
  }
 ],
 "metadata": {
  "kernelspec": {
   "display_name": "Python 3",
   "language": "python",
   "name": "python3"
  },
  "language_info": {
   "codemirror_mode": {
    "name": "ipython",
    "version": 3
   },
   "file_extension": ".py",
   "mimetype": "text/x-python",
   "name": "python",
   "nbconvert_exporter": "python",
   "pygments_lexer": "ipython3",
   "version": "3.7.4"
  }
 },
 "nbformat": 4,
 "nbformat_minor": 4
}
